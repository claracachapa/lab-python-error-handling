{
 "cells": [
  {
   "cell_type": "markdown",
   "id": "25d7736c-ba17-4aff-b6bb-66eba20fbf4e",
   "metadata": {},
   "source": [
    "# Lab | Error Handling"
   ]
  },
  {
   "cell_type": "markdown",
   "id": "bc99b386-7508-47a0-bcdb-d969deaf6c8b",
   "metadata": {},
   "source": [
    "## Exercise: Error Handling for Managing Customer Orders\n",
    "\n",
    "The implementation of your code for managing customer orders assumes that the user will always enter a valid input. \n",
    "\n",
    "For example, we could modify the `initialize_inventory` function to include error handling.\n",
    "   - If the user enters an invalid quantity (e.g., a negative value or a non-numeric value), display an error message and ask them to re-enter the quantity for that product.\n",
    "   - Use a try-except block to handle the error and continue prompting the user until a valid quantity is entered.\n",
    "\n",
    "```python\n",
    "# Step 1: Define the function for initializing the inventory with error handling\n",
    "def initialize_inventory(products):\n",
    "    inventory = {}\n",
    "    for product in products:\n",
    "        valid_quantity = False\n",
    "        while not valid_quantity:\n",
    "            try:\n",
    "                quantity = int(input(f\"Enter the quantity of {product}s available: \"))\n",
    "                if quantity < 0:\n",
    "                    raise ValueError(\"Invalid quantity! Please enter a non-negative value.\")\n",
    "                valid_quantity = True\n",
    "            except ValueError as error:\n",
    "                print(f\"Error: {error}\")\n",
    "        inventory[product] = quantity\n",
    "    return inventory\n",
    "\n",
    "# Or, in another way:\n",
    "\n",
    "def initialize_inventory(products):\n",
    "    inventory = {}\n",
    "    for product in products:\n",
    "        valid_input = False\n",
    "        while not valid_input:\n",
    "            try:\n",
    "                quantity = int(input(f\"Enter the quantity of {product}s available: \"))\n",
    "                if quantity >= 0:\n",
    "                    inventory[product] = quantity\n",
    "                    valid_input = True\n",
    "                else:\n",
    "                    print(\"Quantity cannot be negative. Please enter a valid quantity.\")\n",
    "            except ValueError:\n",
    "                print(\"Invalid input. Please enter a valid quantity.\")\n",
    "    return inventory\n",
    "```\n",
    "\n",
    "Let's enhance your code by implementing error handling to handle invalid inputs.\n",
    "\n",
    "Follow the steps below to complete the exercise:\n",
    "\n",
    "2. Modify the `calculate_total_price` function to include error handling.\n",
    "   - If the user enters an invalid price (e.g., a negative value or a non-numeric value), display an error message and ask them to re-enter the price for that product.\n",
    "   - Use a try-except block to handle the error and continue prompting the user until a valid price is entered.\n",
    "\n",
    "3. Modify the `get_customer_orders` function to include error handling.\n",
    "   - If the user enters an invalid number of orders (e.g., a negative value or a non-numeric value), display an error message and ask them to re-enter the number of orders.\n",
    "   - If the user enters an invalid product name (e.g., a product name that is not in the inventory), or that doesn't have stock available, display an error message and ask them to re-enter the product name. *Hint: you will need to pass inventory as a parameter*\n",
    "   - Use a try-except block to handle the error and continue prompting the user until a valid product name is entered.\n",
    "\n",
    "4. Test your code by running the program and deliberately entering invalid quantities and product names. Make sure the error handling mechanism works as expected.\n"
   ]
  },
  {
   "cell_type": "code",
   "execution_count": 2,
   "id": "20f6557f-39f0-43f8-bb6e-bd4b59002fd0",
   "metadata": {},
   "outputs": [
    {
     "name": "stdin",
     "output_type": "stream",
     "text": [
      "Enter the quantity of t-shirts available:  10\n",
      "Enter the quantity of mugs available:  12\n",
      "Enter the quantity of hats available:  15\n",
      "Enter the quantity of books available:  12\n",
      "Enter the quantity of keychains available:  7\n",
      "How many products would you like to order?  6\n",
      "Product name 1:  fdsh\n"
     ]
    },
    {
     "name": "stdout",
     "output_type": "stream",
     "text": [
      "'fdsh' is either invalid or out of stock. Please choose a valid product.\n"
     ]
    },
    {
     "name": "stdin",
     "output_type": "stream",
     "text": [
      "Product name 1:  mug\n",
      "Product name 2:  book\n",
      "Product name 3:  book\n",
      "Product name 4:  mug\n",
      "Product name 5:  book\n",
      "Product name 6:  mug\n"
     ]
    },
    {
     "name": "stdout",
     "output_type": "stream",
     "text": [
      "Order Statistics: (2, 40.0)\n",
      "\n",
      "Customer Orders: {'mug', 'book'}\n",
      "Processing order for: mug\n",
      "mug inventory updated, new quantity: 11\n",
      "Processing order for: book\n",
      "book inventory updated, new quantity: 11\n",
      "\n",
      "Updated Inventory: {'t-shirt': 10, 'mug': 11, 'hat': 15, 'book': 11, 'keychain': 7}\n"
     ]
    },
    {
     "name": "stdin",
     "output_type": "stream",
     "text": [
      "Enter the price of a mug:  5\n",
      "Enter the price of a book:  10\n"
     ]
    },
    {
     "name": "stdout",
     "output_type": "stream",
     "text": [
      "Total Price: 15.0\n"
     ]
    }
   ],
   "source": [
    "products = ['t-shirt', 'mug', 'hat', 'book', 'keychain']\n",
    "\n",
    "def initialize_inventory(products):\n",
    "    inventory = {}\n",
    "    for product in products:\n",
    "        while True:\n",
    "            try:\n",
    "                quantity = int(input(f\"Enter the quantity of {product}s available: \"))\n",
    "                if quantity < 0:\n",
    "                    print(\"Quantity cannot be negative. Please enter a valid quantity.\")\n",
    "                else:\n",
    "                    inventory[product] = quantity\n",
    "                    break  # Valid quantity entered, exit loop\n",
    "            except ValueError:\n",
    "                print(\"Invalid input. Please enter a valid quantity as a number.\")\n",
    "    return inventory\n",
    "\n",
    "def get_customer_orders(inventory):\n",
    "    while True:\n",
    "        try:\n",
    "            num_orders = int(input(\"How many products would you like to order? \"))\n",
    "            if num_orders < 0:\n",
    "                print(\"Number of orders cannot be negative. Please enter a valid number.\")\n",
    "                continue\n",
    "        except ValueError:\n",
    "            print(\"Invalid input. Please enter a valid number for orders.\")\n",
    "            continue\n",
    "\n",
    "        customer_orders = set()\n",
    "        for i in range(num_orders):\n",
    "            while True:\n",
    "                product_name = input(f\"Product name {i + 1}: \").lower().strip()\n",
    "                if product_name not in inventory or inventory[product_name] <= 0:\n",
    "                    print(f\"'{product_name}' is either invalid or out of stock. Please choose a valid product.\")\n",
    "                else:\n",
    "                    customer_orders.add(product_name)\n",
    "                    break  \n",
    "        return customer_orders\n",
    "\n",
    "def calculate_total_price(customer_orders):\n",
    "    product_prices = {}\n",
    "    for product in customer_orders:\n",
    "        while True:\n",
    "            try:\n",
    "                price = float(input(f\"Enter the price of a {product}: \"))\n",
    "                if price < 0:\n",
    "                    print(\"Price cannot be negative. Please enter a valid price.\")\n",
    "                else:\n",
    "                    product_prices[product] = price\n",
    "                    break  \n",
    "            except ValueError:\n",
    "                print(\"Invalid input. Please enter a valid price as a number.\")\n",
    "    total_price = sum(product_prices.values())\n",
    "    print(f'Total Price: {total_price}')\n",
    "\n",
    "\n",
    "def update_inventory(customer_orders, inventory):\n",
    "    print(\"\\nCustomer Orders:\", customer_orders)\n",
    "    for order in customer_orders:\n",
    "        print(f\"Processing order for: {order}\")\n",
    "        if inventory[order] > 0:\n",
    "            inventory[order] -= 1\n",
    "            print(f\"{order} inventory updated, new quantity: {inventory[order]}\")\n",
    "        else:\n",
    "            print(f\"Error, {order} is not available!\")\n",
    "    return inventory\n",
    "\n",
    "def calculate_order_statistics(customer_orders, products):\n",
    "    total_items_ordered = len(customer_orders)\n",
    "    percentage_unique = (total_items_ordered / len(products)) * 100\n",
    "    return total_items_ordered, percentage_unique\n",
    "\n",
    "\n",
    "def print_order_statistics(order_statistics):\n",
    "    print(\"Order Statistics:\", order_statistics)\n",
    "\n",
    "inventory = initialize_inventory(products)\n",
    "customer_orders = get_customer_orders(inventory)\n",
    "print_order_statistics(calculate_order_statistics(customer_orders, products))\n",
    "updated_inventory = update_inventory(customer_orders, inventory)\n",
    "print(\"\\nUpdated Inventory:\", updated_inventory)\n",
    "calculate_total_price(customer_orders)\n"
   ]
  },
  {
   "cell_type": "code",
   "execution_count": null,
   "id": "42d543c5-2acc-4503-867c-88a6ceadb1e8",
   "metadata": {},
   "outputs": [],
   "source": []
  }
 ],
 "metadata": {
  "kernelspec": {
   "display_name": "Python 3 (ipykernel)",
   "language": "python",
   "name": "python3"
  },
  "language_info": {
   "codemirror_mode": {
    "name": "ipython",
    "version": 3
   },
   "file_extension": ".py",
   "mimetype": "text/x-python",
   "name": "python",
   "nbconvert_exporter": "python",
   "pygments_lexer": "ipython3",
   "version": "3.11.7"
  }
 },
 "nbformat": 4,
 "nbformat_minor": 5
}
